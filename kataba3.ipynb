{
 "cells": [
  {
   "cell_type": "markdown",
   "metadata": {},
   "source": [
    "## Ejercicio - Escribir declaraciones if, else, y elif"
   ]
  },
  {
   "cell_type": "code",
   "execution_count": 26,
   "metadata": {},
   "outputs": [
    {
     "name": "stdout",
     "output_type": "stream",
     "text": [
      "Un asteroride se acerca a la Tierra con una velocidad de 49 km/s\n"
     ]
    }
   ],
   "source": [
    "velocidad = 49\n",
    "\n",
    "if velocidad >= 25 :\n",
    "    print(\"Un asteroride se acerca a la Tierra con una velocidad de\", str(velocidad), \"km/s\")\n",
    "else :\n",
    "    print(\"No hay ningún asteroide acercandose\")"
   ]
  },
  {
   "cell_type": "code",
   "execution_count": 29,
   "metadata": {},
   "outputs": [
    {
     "name": "stdout",
     "output_type": "stream",
     "text": [
      "No hay ningún asteroide acercandose\n"
     ]
    }
   ],
   "source": [
    "velocidad = 19\n",
    "\n",
    "if velocidad >= 20 :\n",
    "    print(\"Deben buscar un asteroide en el cielo. ¡Hay uno que se dirige a la tierra ahora a una velocidad de\", str(velocidad), \"km/s!\")\n",
    "else :\n",
    "    print(\"No hay ningún asteroide acercandose\")"
   ]
  },
  {
   "cell_type": "markdown",
   "metadata": {},
   "source": [
    "## Ejercicio: Uso de operadores and y or\n"
   ]
  },
  {
   "cell_type": "code",
   "execution_count": 34,
   "metadata": {},
   "outputs": [
    {
     "name": "stdout",
     "output_type": "stream",
     "text": [
      "No hay ningún asteroide\n"
     ]
    }
   ],
   "source": [
    "velocidad = 20\n",
    "dimension = 15\n",
    "\n",
    "if velocidad > 25 and dimension > 25 :\n",
    "    print(\"Hay un asteroide acercandose a la Tierra con una velocidad de\", str(velocidad), \"km/s y con una dimensión de\", str(dimension), \"metros\")\n",
    "elif velocidad >= 20 and dimension < 25:\n",
    "    print(\"¡Hay un asteroide que se dirige a la tierra ahora a una velocidad de\", str(velocidad), \"km/s! Pero no es pelogroso tiene una dimensión de\", dimension, \"metros\")\n",
    "else:\n",
    "    print(\"No hay ningún asteroide\")\n"
   ]
  }
 ],
 "metadata": {
  "interpreter": {
   "hash": "2be5faf79681da6f2a61fdfdd5405d65d042280f7fba6178067603e3a2925119"
  },
  "kernelspec": {
   "display_name": "Python 3.10.2 64-bit",
   "language": "python",
   "name": "python3"
  },
  "language_info": {
   "codemirror_mode": {
    "name": "ipython",
    "version": 3
   },
   "file_extension": ".py",
   "mimetype": "text/x-python",
   "name": "python",
   "nbconvert_exporter": "python",
   "pygments_lexer": "ipython3",
   "version": "3.10.2"
  },
  "orig_nbformat": 4
 },
 "nbformat": 4,
 "nbformat_minor": 2
}
