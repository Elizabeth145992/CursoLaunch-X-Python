{
 "cells": [
  {
   "cell_type": "markdown",
   "metadata": {},
   "source": [
    "## Ejercicio 1: Transformar cadenas"
   ]
  },
  {
   "cell_type": "code",
   "execution_count": 53,
   "metadata": {},
   "outputs": [
    {
     "name": "stdout",
     "output_type": "stream",
     "text": [
      "\n",
      "On average, the Moon moves 4cm away from the Earth every year\n"
     ]
    }
   ],
   "source": [
    "text = \"\"\"Interesting facts about the Moon. The Moon is Earth's only satellite. There are several interesting facts about the Moon and how it affects life here on Earth. \n",
    "On average, the Moon moves 4cm away from the Earth every year. This yearly drift is not significant enough to cause immediate effects on Earth. The highes\"\"\"\n",
    "\n",
    "separate_text = text.split('. ')\n",
    "\n",
    "average = text.find('average')\n",
    "temperature = text.find('temperature')\n",
    "distance = text.find('distance')\n",
    "\n",
    "for item in separate_text:\n",
    "    if 'average' in item or 'temperature' in item or 'distance' in item:\n",
    "         print(item.replace(' C', ' Celsius'))"
   ]
  },
  {
   "cell_type": "markdown",
   "metadata": {},
   "source": [
    "## Ejercicio 2: Formateando Cadenas"
   ]
  },
  {
   "cell_type": "code",
   "execution_count": 23,
   "metadata": {},
   "outputs": [
    {
     "name": "stdout",
     "output_type": "stream",
     "text": [
      "La gravedad en Ganímedes y en Marte \n",
      "--------------------------------------------------------------\n",
      "Planet Name: Marte  \n",
      "Gravity on Ganímedes: 1.4300000000000002 m/s2 \n"
     ]
    }
   ],
   "source": [
    "name = \"Moon\"\n",
    "gravity = 0.00162 # in kms\n",
    "planet = \"Earth\"\n",
    "\n",
    "planeta = 'Marte '\n",
    "gravedad  = 0.00143\n",
    "nombre = 'Ganímedes'\n",
    "\n",
    "title = f'La gravedad en {name} y en {planet}'\n",
    "#print(str(title))\n",
    "\n",
    "plantillaMulti = f\"\"\"--------------------------------------------------------------\n",
    "Planet Name: {planet} \n",
    "Gravity on {name}: {gravity*1000} m/s2 \"\"\"\n",
    "#$print(str(plantillaMulti))\n",
    "\n",
    "newPlantilla = f\"\"\"{title}\n",
    "{plantillaMulti}\"\"\"\n",
    "#print(str(newPlantilla))\n",
    "\n",
    "plantillaNew = f\"\"\"La gravedad en {nombre} y en {planeta}\n",
    "--------------------------------------------------------------\n",
    "Planet Name: {planeta} \n",
    "Gravity on {nombre}: {gravedad*1000} m/s2 \"\"\"\n",
    "#print(str(plantillaNew.format(nombre=nombre, planeta=planeta, gravedad=gravedad)))"
   ]
  }
 ],
 "metadata": {
  "interpreter": {
   "hash": "2be5faf79681da6f2a61fdfdd5405d65d042280f7fba6178067603e3a2925119"
  },
  "kernelspec": {
   "display_name": "Python 3.10.2 64-bit",
   "language": "python",
   "name": "python3"
  },
  "language_info": {
   "codemirror_mode": {
    "name": "ipython",
    "version": 3
   },
   "file_extension": ".py",
   "mimetype": "text/x-python",
   "name": "python",
   "nbconvert_exporter": "python",
   "pygments_lexer": "ipython3",
   "version": "3.10.2"
  },
  "orig_nbformat": 4
 },
 "nbformat": 4,
 "nbformat_minor": 2
}
