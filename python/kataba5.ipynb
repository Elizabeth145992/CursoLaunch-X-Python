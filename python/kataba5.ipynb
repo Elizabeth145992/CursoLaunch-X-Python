{
 "cells": [
  {
   "cell_type": "markdown",
   "metadata": {},
   "source": [
    "## Ejercicio1 - Utilizar operadores aritméticos"
   ]
  },
  {
   "cell_type": "code",
   "execution_count": 2,
   "metadata": {},
   "outputs": [
    {
     "name": "stdout",
     "output_type": "stream",
     "text": [
      "390577533.93\n"
     ]
    }
   ],
   "source": [
    "distanciaTierra = 149597870\n",
    "distanciaJupiter = 778547200\n",
    "\n",
    "distanciaPlanetas = abs(distanciaJupiter - distanciaTierra) * 0.621\n",
    "print(distanciaPlanetas)"
   ]
  },
  {
   "cell_type": "markdown",
   "metadata": {},
   "source": [
    "## Ejercicio 2: convierte cadenas en números y usa valores absolutos"
   ]
  },
  {
   "cell_type": "code",
   "execution_count": 1,
   "metadata": {},
   "outputs": [
    {
     "name": "stdout",
     "output_type": "stream",
     "text": [
      "31236300.0\n"
     ]
    }
   ],
   "source": [
    "planeta1 = input(\"Introduzca la distancia del Sol al planeta Marte: \")\n",
    "planeta2 = input(\"Introduzca la distancia del Sol al planeta Mercurio: \")\n",
    "\n",
    "enteroPlaneta1 = int(planeta1)\n",
    "enteroPlaneta2 = int(planeta2)\n",
    "\n",
    "distanciaPlanetas = abs(enteroPlaneta2 - enteroPlaneta1) * 0.621\n",
    "\n",
    "print(distanciaPlanetas)\n"
   ]
  }
 ],
 "metadata": {
  "interpreter": {
   "hash": "01ebe63ccd6aaaf69954fdb6e2f04a6fcba1aff321c7b7b7ace83be70f36bed7"
  },
  "kernelspec": {
   "display_name": "Python 3.10.2 64-bit (windows store)",
   "language": "python",
   "name": "python3"
  },
  "language_info": {
   "codemirror_mode": {
    "name": "ipython",
    "version": 3
   },
   "file_extension": ".py",
   "mimetype": "text/x-python",
   "name": "python",
   "nbconvert_exporter": "python",
   "pygments_lexer": "ipython3",
   "version": "3.10.2"
  },
  "orig_nbformat": 4
 },
 "nbformat": 4,
 "nbformat_minor": 2
}
