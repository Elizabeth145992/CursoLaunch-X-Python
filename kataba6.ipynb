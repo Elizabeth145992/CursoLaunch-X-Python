{
 "cells": [
  {
   "cell_type": "markdown",
   "metadata": {},
   "source": [
    "## Ejercicio1: Crear y usar listas de Python"
   ]
  },
  {
   "cell_type": "code",
   "execution_count": 2,
   "metadata": {},
   "outputs": [
    {
     "name": "stdout",
     "output_type": "stream",
     "text": [
      "El número total de planetas sin Pluto son 8\n",
      "El número total de planetas con Pluto son 9\n"
     ]
    }
   ],
   "source": [
    "planets = ['Mercurio', 'Venus', 'Tierra', 'Marte', 'Júpiter', 'Saturno', 'Urano', 'Neptuno']\n",
    "print(\"El número total de planetas sin Pluto son\", len(planets))\n",
    "planets.append('Pluto')\n",
    "print(\"El número total de planetas con Pluto son\", len(planets))\n",
    "\n"
   ]
  },
  {
   "cell_type": "markdown",
   "metadata": {},
   "source": [
    "## Ejercicio 2: Trabajando con datos de una lista"
   ]
  },
  {
   "cell_type": "code",
   "execution_count": 7,
   "metadata": {},
   "outputs": [
    {
     "name": "stdout",
     "output_type": "stream",
     "text": [
      "4\n",
      "Los planetas más cercanos al Sol que  Jupiter son: ['Mercury', 'Venus', 'Earth', 'Mars']\n",
      "Los planetas más alejados al Sol que  Jupiter son: ['Saturn', 'Neptune']\n"
     ]
    }
   ],
   "source": [
    "planets = ['Mercury', 'Venus', 'Earth', 'Mars', 'Jupiter', 'Saturn', 'Neptune']\n",
    "planetName = input(\"Ingrese el nombre de un planeta en inglés comenzando con mayúscula: \")\n",
    "\n",
    "planetaIndex = planets.index(planetName)\n",
    "print(planetaIndex)\n",
    "\n",
    "planetasCercanos =  planets[0:planetaIndex]\n",
    "print(\"Los planetas más cercanos al Sol que \",planetName,\"son:\",planetasCercanos)\n",
    "\n",
    "planetasAlejados = planets[planetaIndex + 1: ]\n",
    "print(\"Los planetas más alejados al Sol que \",planetName,\"son:\",planetasAlejados)\n"
   ]
  }
 ],
 "metadata": {
  "interpreter": {
   "hash": "01ebe63ccd6aaaf69954fdb6e2f04a6fcba1aff321c7b7b7ace83be70f36bed7"
  },
  "kernelspec": {
   "display_name": "Python 3.10.2 64-bit (windows store)",
   "language": "python",
   "name": "python3"
  },
  "language_info": {
   "codemirror_mode": {
    "name": "ipython",
    "version": 3
   },
   "file_extension": ".py",
   "mimetype": "text/x-python",
   "name": "python",
   "nbconvert_exporter": "python",
   "pygments_lexer": "ipython3",
   "version": "3.10.2"
  },
  "orig_nbformat": 4
 },
 "nbformat": 4,
 "nbformat_minor": 2
}
