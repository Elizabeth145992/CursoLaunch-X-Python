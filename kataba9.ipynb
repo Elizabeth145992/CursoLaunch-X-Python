{
 "cells": [
  {
   "cell_type": "markdown",
   "metadata": {},
   "source": [
    "## Ejercicio 1: Trabajar con argumentos en funciones"
   ]
  },
  {
   "cell_type": "code",
   "execution_count": 7,
   "metadata": {},
   "outputs": [
    {
     "name": "stdout",
     "output_type": "stream",
     "text": [
      "Reporte:\n",
      "    El tanque 1 contiene:5\n",
      "    El tanque 2 contiene:5\n",
      "    El tanque 3 contiene:20\n",
      "    El promedio es: 10.0 \n",
      "    \n"
     ]
    }
   ],
   "source": [
    "\n",
    "def combustible(tanque1, tanque2, tanque3):\n",
    "    print(f\"\"\"Reporte:\n",
    "    El tanque 1 contiene:{tanque1}\n",
    "    El tanque 2 contiene:{tanque2}\n",
    "    El tanque 3 contiene:{tanque3}\n",
    "    El promedio es: {promedio([tanque1, tanque2, tanque3])} \n",
    "    \"\"\")\n",
    "\n",
    "def promedio(args):\n",
    "    promedio = (sum(args)) / len(args)\n",
    "    return promedio\n",
    "\n",
    "combustible(5, 5, 20)\n"
   ]
  },
  {
   "cell_type": "markdown",
   "metadata": {},
   "source": [
    "## Ejercicio 2: Trabajo con argumentos de palabra clave"
   ]
  },
  {
   "cell_type": "code",
   "execution_count": 38,
   "metadata": {},
   "outputs": [
    {
     "name": "stdout",
     "output_type": "stream",
     "text": [
      "Reporte:\n",
      "    El tanque Externo contiene:6000000 L\n",
      "    El tanque Interno contiene:8900000 L\n",
      "    El total de combustible es: 14900000 L\n",
      "    El tiempo de vuelo es: 43 horas\n",
      "    El destino es: Tierra \n",
      "    \n"
     ]
    }
   ],
   "source": [
    "def informe(destino, *minutos, **fuel_reservoirs):\n",
    "    contador = 0\n",
    "\n",
    "    for tanque in fuel_reservoirs.values():\n",
    "        if contador == 0:\n",
    "            tanque1 = tanque\n",
    "            contador += 1\n",
    "        elif contador == 1:\n",
    "            tanque2 = tanque\n",
    "            contador += 1\n",
    "    \n",
    "    print(f\"\"\"Reporte:\n",
    "    El tanque Externo contiene:{tanque1} L\n",
    "    El tanque Interno contiene:{tanque2} L\n",
    "    El total de combustible es: {sum(fuel_reservoirs.values())} L\n",
    "    El tiempo de vuelo es: {sum(minutos)} horas\n",
    "    El destino es: {destino} \n",
    "    \"\"\")\n",
    "\n",
    "informe(\"Tierra\", 13, 30, main=6000000, external=8900000)"
   ]
  }
 ],
 "metadata": {
  "interpreter": {
   "hash": "01ebe63ccd6aaaf69954fdb6e2f04a6fcba1aff321c7b7b7ace83be70f36bed7"
  },
  "kernelspec": {
   "display_name": "Python 3.10.2 64-bit (windows store)",
   "language": "python",
   "name": "python3"
  },
  "language_info": {
   "codemirror_mode": {
    "name": "ipython",
    "version": 3
   },
   "file_extension": ".py",
   "mimetype": "text/x-python",
   "name": "python",
   "nbconvert_exporter": "python",
   "pygments_lexer": "ipython3",
   "version": "3.10.2"
  },
  "orig_nbformat": 4
 },
 "nbformat": 4,
 "nbformat_minor": 2
}
