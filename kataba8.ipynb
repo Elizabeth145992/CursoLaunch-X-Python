{
 "cells": [
  {
   "cell_type": "markdown",
   "metadata": {},
   "source": [
    "## Ejercicio 1: Creación de diccionarios de Python"
   ]
  },
  {
   "cell_type": "code",
   "execution_count": 4,
   "metadata": {},
   "outputs": [
    {
     "name": "stdout",
     "output_type": "stream",
     "text": [
      "El planeta es Mars y tiene 2 lunas\n",
      "El planeta es Mars su circunferencia polar es de 6752 km y la circunferencia ecuatorial es de 6792 km\n"
     ]
    }
   ],
   "source": [
    "planet = {\n",
    "    'name': 'Mars',\n",
    "    'moons': 2,\n",
    "}\n",
    "print('El planeta es',planet.get('name'), 'y tiene', planet['moons'], 'lunas')\n",
    "planet['circunferenca (km)'] = {\n",
    "    'polar': 6752,\n",
    "    'equatorial': 6792,\n",
    "}\n",
    "print('El planeta es',planet.get('name'), 'su circunferencia polar es de', planet['circunferenca (km)']['polar'], \n",
    "'km y la circunferencia ecuatorial es de', planet['circunferenca (km)']['equatorial'], 'km')"
   ]
  },
  {
   "cell_type": "markdown",
   "metadata": {},
   "source": [
    "## Ejercicio 2: Programación dinámica con diccionarios"
   ]
  },
  {
   "cell_type": "code",
   "execution_count": 11,
   "metadata": {},
   "outputs": [
    {
     "name": "stdout",
     "output_type": "stream",
     "text": [
      "El total de lunas es: 214 de 12 planetas y el promedio es de: 17.833333333333332\n"
     ]
    }
   ],
   "source": [
    "planet_moons = {\n",
    "    'mercury': 0,\n",
    "    'venus': 0,\n",
    "    'earth': 1,\n",
    "    'mars': 2,\n",
    "    'jupiter': 79,\n",
    "    'saturn': 82,\n",
    "    'uranus': 27,\n",
    "    'neptune': 14,\n",
    "    'pluto': 5,\n",
    "    'haumea': 2,\n",
    "    'makemake': 1,\n",
    "    'eris': 1\n",
    "}\n",
    "total_moons = 0\n",
    "moons = planet_moons.values()\n",
    "planets = len(planet_moons)\n",
    "#print(moons)\n",
    "#print(planets)\n",
    "\n",
    "for totalMoons in moons:\n",
    "    total_moons += totalMoons\n",
    "\n",
    "promedio = total_moons / planets\n",
    "print('El total de lunas es:', total_moons, 'de',planets,'planetas y el promedio es de:', promedio) \n",
    "\n"
   ]
  }
 ],
 "metadata": {
  "interpreter": {
   "hash": "01ebe63ccd6aaaf69954fdb6e2f04a6fcba1aff321c7b7b7ace83be70f36bed7"
  },
  "kernelspec": {
   "display_name": "Python 3.10.2 64-bit (windows store)",
   "language": "python",
   "name": "python3"
  },
  "language_info": {
   "codemirror_mode": {
    "name": "ipython",
    "version": 3
   },
   "file_extension": ".py",
   "mimetype": "text/x-python",
   "name": "python",
   "nbconvert_exporter": "python",
   "pygments_lexer": "ipython3",
   "version": "3.10.2"
  },
  "orig_nbformat": 4
 },
 "nbformat": 4,
 "nbformat_minor": 2
}
