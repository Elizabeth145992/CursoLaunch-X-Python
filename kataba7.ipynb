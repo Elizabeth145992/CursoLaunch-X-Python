{
 "cells": [
  {
   "cell_type": "markdown",
   "metadata": {},
   "source": [
    "## Ejercicio 1: Creación de un bucle \"while\""
   ]
  },
  {
   "cell_type": "code",
   "execution_count": 2,
   "metadata": {},
   "outputs": [],
   "source": [
    "new_planet = ''\n",
    "plants = []\n",
    "\n",
    "while new_planet.lower() != 'done':\n",
    "    new_planet = input('Ingrese el nombre de un planeta o escriba la palabra \"done\" para terminar la lista de planetas')\n",
    "    if new_planet:\n",
    "        plants.append(new_planet)\n"
   ]
  },
  {
   "cell_type": "markdown",
   "metadata": {},
   "source": [
    "## Ejercicio 2: Creación de un ciclo \"for\""
   ]
  },
  {
   "cell_type": "code",
   "execution_count": 12,
   "metadata": {},
   "outputs": [
    {
     "name": "stdout",
     "output_type": "stream",
     "text": [
      "Planeta 1 : Tierra\n",
      "Planeta 2 : Marte\n",
      "Planeta 3 : Jupiter\n",
      "Planeta 4 : Urano\n"
     ]
    }
   ],
   "source": [
    "new_planet = ''\n",
    "plants = []\n",
    "contador = 1\n",
    "\n",
    "while new_planet.lower() != 'done':\n",
    "    new_planet = input('Ingrese el nombre de un planeta o escriba la palabra \"done\" para terminar la lista de planetas')\n",
    "    if new_planet and new_planet != 'done':\n",
    "        plants.append(new_planet)\n",
    "\n",
    "for index in plants:\n",
    "    print('Planeta',contador, ':',index)\n",
    "    contador = contador + 1\n"
   ]
  }
 ],
 "metadata": {
  "interpreter": {
   "hash": "01ebe63ccd6aaaf69954fdb6e2f04a6fcba1aff321c7b7b7ace83be70f36bed7"
  },
  "kernelspec": {
   "display_name": "Python 3.10.2 64-bit (windows store)",
   "language": "python",
   "name": "python3"
  },
  "language_info": {
   "codemirror_mode": {
    "name": "ipython",
    "version": 3
   },
   "file_extension": ".py",
   "mimetype": "text/x-python",
   "name": "python",
   "nbconvert_exporter": "python",
   "pygments_lexer": "ipython3",
   "version": "3.10.2"
  },
  "orig_nbformat": 4
 },
 "nbformat": 4,
 "nbformat_minor": 2
}
